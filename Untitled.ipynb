{
 "cells": [
  {
   "cell_type": "code",
   "execution_count": 1,
   "metadata": {},
   "outputs": [],
   "source": [
    "import kaggle\n",
    "import json\n",
    "\n",
    "def prepared_chunk(chunk, output):\n",
    "    print(chunk, type(output))\n",
    "    old_chunk = chunk.split('\\n')\n",
    "    new_chunk = []\n",
    "    n = 60\n",
    "    for line in old_chunk:\n",
    "        parts = ['    ' + line[i:i + n] if i > 0 else line[i:i + n] for i in range(0, len(line), n)]\n",
    "        new_chunk.extend(parts)\n",
    "    # print('<br/>'.join(new_chunk))\n",
    "    old_output = output\n",
    "    new_output = []\n",
    "    for line in old_output:\n",
    "        parts = ['    ' + line[i:i + n] if i > 0 else line[i:i + n] for i in range(0, len(line), n)]\n",
    "        new_output.extend(parts)\n",
    "    return '<br/>'.join(new_chunk), '<br/>'.join(new_output)\n",
    "\n",
    "def download_chunks_from_notebook(link):\n",
    "    author, name = link.split('/')[-2], link.split('/')[-1]\n",
    "    kaggle.api.kernels_pull(f\"{author}/{name}\", 'notebooks')\n",
    "    data = [prepared_chunk(el.get('source'), el.get('outputs')) for el in json.load(open(f\"notebooks/{name}.ipynb\"))[\"cells\"] if\n",
    "            el[\"cell_type\"] == 'code']\n",
    "    return data"
   ]
  },
  {
   "cell_type": "code",
   "execution_count": null,
   "metadata": {},
   "outputs": [],
   "source": [
    "download_chunks_from_notebook(\"https://www.kaggle.com/andradaolteanu/wids-datathon-rapids-ensembles-wandb\")"
   ]
  },
  {
   "cell_type": "code",
   "execution_count": null,
   "metadata": {},
   "outputs": [],
   "source": [
    "name = \"xgb-starter\"\n",
    "data = json.load(open(f\"notebooks/{name}.ipynb\"))[\"cells\"]\n",
    "json.dump(data, open(\"test.json\", 'w'))"
   ]
  },
  {
   "cell_type": "code",
   "execution_count": 4,
   "metadata": {},
   "outputs": [],
   "source": [
    "link = 'https://www.kaggle.com/wilddave/xgb-starter'\n",
    "author, name = link.split('/')[-2], link.split('/')[-1]\n",
    "\n",
    "notebook_name = kaggle.api.kernels_output(f\"{author}/{name}\", 'test')\n",
    "outputs_name = [kaggle.api.kernels_pull(f\"{author}/{name}\", 'test')]"
   ]
  },
  {
   "cell_type": "code",
   "execution_count": 5,
   "metadata": {},
   "outputs": [
    {
     "ename": "FileNotFoundError",
     "evalue": "[Errno 2] No such file or directory: \"test/['test/submission.csv', 'test/xgb-starter.log']\"",
     "output_type": "error",
     "traceback": [
      "\u001b[0;31m---------------------------------------------------------------------------\u001b[0m",
      "\u001b[0;31mFileNotFoundError\u001b[0m                         Traceback (most recent call last)",
      "\u001b[0;32m<ipython-input-5-f91715a28614>\u001b[0m in \u001b[0;36m<module>\u001b[0;34m\u001b[0m\n\u001b[0;32m----> 1\u001b[0;31m \u001b[0mnotebook_data\u001b[0m \u001b[0;34m=\u001b[0m \u001b[0mjson\u001b[0m\u001b[0;34m.\u001b[0m\u001b[0mload\u001b[0m\u001b[0;34m(\u001b[0m\u001b[0mopen\u001b[0m\u001b[0;34m(\u001b[0m\u001b[0;34mf'test/{notebook_name}'\u001b[0m\u001b[0;34m)\u001b[0m\u001b[0;34m)\u001b[0m\u001b[0;34m\u001b[0m\u001b[0;34m\u001b[0m\u001b[0m\n\u001b[0m\u001b[1;32m      2\u001b[0m \u001b[0mnotebook_outputs\u001b[0m \u001b[0;34m=\u001b[0m \u001b[0mjson\u001b[0m\u001b[0;34m.\u001b[0m\u001b[0mload\u001b[0m\u001b[0;34m(\u001b[0m\u001b[0mopen\u001b[0m\u001b[0;34m(\u001b[0m\u001b[0;34mf'test/{outputs_name}'\u001b[0m\u001b[0;34m)\u001b[0m\u001b[0;34m)\u001b[0m\u001b[0;34m\u001b[0m\u001b[0;34m\u001b[0m\u001b[0m\n",
      "\u001b[0;31mFileNotFoundError\u001b[0m: [Errno 2] No such file or directory: \"test/['test/submission.csv', 'test/xgb-starter.log']\""
     ]
    }
   ],
   "source": [
    "notebook_data = json.load(open(f'test/{notebook_name}'))\n",
    "notebook_outputs = json.load(open(f'test/{outputs_name}'))"
   ]
  },
  {
   "cell_type": "code",
   "execution_count": null,
   "metadata": {},
   "outputs": [],
   "source": []
  }
 ],
 "metadata": {
  "kernelspec": {
   "display_name": "nl2ml",
   "language": "python",
   "name": "nl2ml"
  },
  "language_info": {
   "codemirror_mode": {
    "name": "ipython",
    "version": 3
   },
   "file_extension": ".py",
   "mimetype": "text/x-python",
   "name": "python",
   "nbconvert_exporter": "python",
   "pygments_lexer": "ipython3",
   "version": "3.8.3"
  }
 },
 "nbformat": 4,
 "nbformat_minor": 4
}
