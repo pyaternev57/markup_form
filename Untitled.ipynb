{
 "cells": [
  {
   "cell_type": "code",
   "execution_count": 24,
   "metadata": {},
   "outputs": [],
   "source": [
    "import kaggle\n",
    "import json\n",
    "\n",
    "def prepared_chunk(chunk, output):\n",
    "    print(chunk, type(output))\n",
    "    old_chunk = chunk.split('\\n')\n",
    "    new_chunk = []\n",
    "    n = 60\n",
    "    for line in old_chunk:\n",
    "        parts = ['    ' + line[i:i + n] if i > 0 else line[i:i + n] for i in range(0, len(line), n)]\n",
    "        new_chunk.extend(parts)\n",
    "    # print('<br/>'.join(new_chunk))\n",
    "    old_output = output.split('\\n')\n",
    "    new_output = []\n",
    "    for line in old_output:\n",
    "        parts = ['    ' + line[i:i + n] if i > 0 else line[i:i + n] for i in range(0, len(line), n)]\n",
    "        new_output.extend(parts)\n",
    "    return '<br/>'.join(new_chunk), '<br/>'.join(new_output)\n",
    "\n",
    "def download_chunks_from_notebook(link):\n",
    "    author, name = link.split('/')[-2], link.split('/')[-1]\n",
    "    kaggle.api.kernels_pull(f\"{author}/{name}\", 'notebooks')\n",
    "    data = [prepared_chunk(el.get('source'), el.get('outputs')) for el in json.load(open(f\"notebooks/{name}.ipynb\"))[\"cells\"] if\n",
    "            el[\"cell_type\"] == 'code']\n",
    "    return data"
   ]
  },
  {
   "cell_type": "code",
   "execution_count": 25,
   "metadata": {},
   "outputs": [
    {
     "name": "stdout",
     "output_type": "stream",
     "text": [
      "%%time\n",
      "# Import the Rapids suite here - takes abot 2 mins\n",
      "\n",
      "import sys\n",
      "!cp ../input/rapids/rapids.0.17.0 /opt/conda/envs/rapids.tar.gz\n",
      "!cd /opt/conda/envs/ && tar -xzvf rapids.tar.gz > /dev/null\n",
      "sys.path = [\"/opt/conda/envs/rapids/lib/python3.7/site-packages\"] + sys.path\n",
      "sys.path = [\"/opt/conda/envs/rapids/lib/python3.7\"] + sys.path\n",
      "sys.path = [\"/opt/conda/envs/rapids/lib\"] + sys.path \n",
      "!cp /opt/conda/envs/rapids/lib/libxgboost.so /opt/conda/lib/ <class 'list'>\n"
     ]
    },
    {
     "ename": "AttributeError",
     "evalue": "'list' object has no attribute 'split'",
     "output_type": "error",
     "traceback": [
      "\u001b[0;31m---------------------------------------------------------------------------\u001b[0m",
      "\u001b[0;31mAttributeError\u001b[0m                            Traceback (most recent call last)",
      "\u001b[0;32m<ipython-input-25-0c37671c0636>\u001b[0m in \u001b[0;36m<module>\u001b[0;34m\u001b[0m\n\u001b[0;32m----> 1\u001b[0;31m \u001b[0mdownload_chunks_from_notebook\u001b[0m\u001b[0;34m(\u001b[0m\u001b[0;34m\"https://www.kaggle.com/andradaolteanu/wids-datathon-rapids-ensembles-wandb\"\u001b[0m\u001b[0;34m)\u001b[0m\u001b[0;34m\u001b[0m\u001b[0;34m\u001b[0m\u001b[0m\n\u001b[0m",
      "\u001b[0;32m<ipython-input-24-57263b5a81be>\u001b[0m in \u001b[0;36mdownload_chunks_from_notebook\u001b[0;34m(link)\u001b[0m\n\u001b[1;32m     21\u001b[0m     \u001b[0mauthor\u001b[0m\u001b[0;34m,\u001b[0m \u001b[0mname\u001b[0m \u001b[0;34m=\u001b[0m \u001b[0mlink\u001b[0m\u001b[0;34m.\u001b[0m\u001b[0msplit\u001b[0m\u001b[0;34m(\u001b[0m\u001b[0;34m'/'\u001b[0m\u001b[0;34m)\u001b[0m\u001b[0;34m[\u001b[0m\u001b[0;34m-\u001b[0m\u001b[0;36m2\u001b[0m\u001b[0;34m]\u001b[0m\u001b[0;34m,\u001b[0m \u001b[0mlink\u001b[0m\u001b[0;34m.\u001b[0m\u001b[0msplit\u001b[0m\u001b[0;34m(\u001b[0m\u001b[0;34m'/'\u001b[0m\u001b[0;34m)\u001b[0m\u001b[0;34m[\u001b[0m\u001b[0;34m-\u001b[0m\u001b[0;36m1\u001b[0m\u001b[0;34m]\u001b[0m\u001b[0;34m\u001b[0m\u001b[0;34m\u001b[0m\u001b[0m\n\u001b[1;32m     22\u001b[0m     \u001b[0mkaggle\u001b[0m\u001b[0;34m.\u001b[0m\u001b[0mapi\u001b[0m\u001b[0;34m.\u001b[0m\u001b[0mkernels_pull\u001b[0m\u001b[0;34m(\u001b[0m\u001b[0;34mf\"{author}/{name}\"\u001b[0m\u001b[0;34m,\u001b[0m \u001b[0;34m'notebooks'\u001b[0m\u001b[0;34m)\u001b[0m\u001b[0;34m\u001b[0m\u001b[0;34m\u001b[0m\u001b[0m\n\u001b[0;32m---> 23\u001b[0;31m     data = [prepared_chunk(el['source'], el['outputs']) for el in json.load(open(f\"notebooks/{name}.ipynb\"))[\"cells\"] if\n\u001b[0m\u001b[1;32m     24\u001b[0m             el[\"cell_type\"] == 'code']\n\u001b[1;32m     25\u001b[0m     \u001b[0;32mreturn\u001b[0m \u001b[0mdata\u001b[0m\u001b[0;34m\u001b[0m\u001b[0;34m\u001b[0m\u001b[0m\n",
      "\u001b[0;32m<ipython-input-24-57263b5a81be>\u001b[0m in \u001b[0;36m<listcomp>\u001b[0;34m(.0)\u001b[0m\n\u001b[1;32m     21\u001b[0m     \u001b[0mauthor\u001b[0m\u001b[0;34m,\u001b[0m \u001b[0mname\u001b[0m \u001b[0;34m=\u001b[0m \u001b[0mlink\u001b[0m\u001b[0;34m.\u001b[0m\u001b[0msplit\u001b[0m\u001b[0;34m(\u001b[0m\u001b[0;34m'/'\u001b[0m\u001b[0;34m)\u001b[0m\u001b[0;34m[\u001b[0m\u001b[0;34m-\u001b[0m\u001b[0;36m2\u001b[0m\u001b[0;34m]\u001b[0m\u001b[0;34m,\u001b[0m \u001b[0mlink\u001b[0m\u001b[0;34m.\u001b[0m\u001b[0msplit\u001b[0m\u001b[0;34m(\u001b[0m\u001b[0;34m'/'\u001b[0m\u001b[0;34m)\u001b[0m\u001b[0;34m[\u001b[0m\u001b[0;34m-\u001b[0m\u001b[0;36m1\u001b[0m\u001b[0;34m]\u001b[0m\u001b[0;34m\u001b[0m\u001b[0;34m\u001b[0m\u001b[0m\n\u001b[1;32m     22\u001b[0m     \u001b[0mkaggle\u001b[0m\u001b[0;34m.\u001b[0m\u001b[0mapi\u001b[0m\u001b[0;34m.\u001b[0m\u001b[0mkernels_pull\u001b[0m\u001b[0;34m(\u001b[0m\u001b[0;34mf\"{author}/{name}\"\u001b[0m\u001b[0;34m,\u001b[0m \u001b[0;34m'notebooks'\u001b[0m\u001b[0;34m)\u001b[0m\u001b[0;34m\u001b[0m\u001b[0;34m\u001b[0m\u001b[0m\n\u001b[0;32m---> 23\u001b[0;31m     data = [prepared_chunk(el['source'], el['outputs']) for el in json.load(open(f\"notebooks/{name}.ipynb\"))[\"cells\"] if\n\u001b[0m\u001b[1;32m     24\u001b[0m             el[\"cell_type\"] == 'code']\n\u001b[1;32m     25\u001b[0m     \u001b[0;32mreturn\u001b[0m \u001b[0mdata\u001b[0m\u001b[0;34m\u001b[0m\u001b[0;34m\u001b[0m\u001b[0m\n",
      "\u001b[0;32m<ipython-input-24-57263b5a81be>\u001b[0m in \u001b[0;36mprepared_chunk\u001b[0;34m(chunk, output)\u001b[0m\n\u001b[1;32m     11\u001b[0m         \u001b[0mnew_chunk\u001b[0m\u001b[0;34m.\u001b[0m\u001b[0mextend\u001b[0m\u001b[0;34m(\u001b[0m\u001b[0mparts\u001b[0m\u001b[0;34m)\u001b[0m\u001b[0;34m\u001b[0m\u001b[0;34m\u001b[0m\u001b[0m\n\u001b[1;32m     12\u001b[0m     \u001b[0;31m# print('<br/>'.join(new_chunk))\u001b[0m\u001b[0;34m\u001b[0m\u001b[0;34m\u001b[0m\u001b[0;34m\u001b[0m\u001b[0m\n\u001b[0;32m---> 13\u001b[0;31m     \u001b[0mold_output\u001b[0m \u001b[0;34m=\u001b[0m \u001b[0moutput\u001b[0m\u001b[0;34m.\u001b[0m\u001b[0msplit\u001b[0m\u001b[0;34m(\u001b[0m\u001b[0;34m'\\n'\u001b[0m\u001b[0;34m)\u001b[0m\u001b[0;34m\u001b[0m\u001b[0;34m\u001b[0m\u001b[0m\n\u001b[0m\u001b[1;32m     14\u001b[0m     \u001b[0mnew_output\u001b[0m \u001b[0;34m=\u001b[0m \u001b[0;34m[\u001b[0m\u001b[0;34m]\u001b[0m\u001b[0;34m\u001b[0m\u001b[0;34m\u001b[0m\u001b[0m\n\u001b[1;32m     15\u001b[0m     \u001b[0;32mfor\u001b[0m \u001b[0mline\u001b[0m \u001b[0;32min\u001b[0m \u001b[0mold_output\u001b[0m\u001b[0;34m:\u001b[0m\u001b[0;34m\u001b[0m\u001b[0;34m\u001b[0m\u001b[0m\n",
      "\u001b[0;31mAttributeError\u001b[0m: 'list' object has no attribute 'split'"
     ]
    }
   ],
   "source": [
    "download_chunks_from_notebook(\"https://www.kaggle.com/andradaolteanu/wids-datathon-rapids-ensembles-wandb\")"
   ]
  },
  {
   "cell_type": "code",
   "execution_count": 38,
   "metadata": {},
   "outputs": [],
   "source": [
    "name = \"xgb-starter\"\n",
    "data = json.load(open(f\"notebooks/{name}.ipynb\"))[\"cells\"]\n",
    "json.dump(data, open(\"test.json\", 'w'))"
   ]
  },
  {
   "cell_type": "code",
   "execution_count": 35,
   "metadata": {},
   "outputs": [
    {
     "name": "stdout",
     "output_type": "stream",
     "text": [
      "None\n",
      "None\n",
      "[]\n",
      "None\n",
      "[]\n",
      "None\n",
      "[]\n",
      "None\n",
      "[]\n",
      "None\n",
      "[]\n",
      "None\n",
      "[]\n",
      "None\n",
      "[]\n",
      "[]\n"
     ]
    }
   ],
   "source": [
    "for el in data:\n",
    "    print(el.get(\"outputs\"))\n",
    "    "
   ]
  },
  {
   "cell_type": "code",
   "execution_count": null,
   "metadata": {},
   "outputs": [],
   "source": []
  }
 ],
 "metadata": {
  "kernelspec": {
   "display_name": "nl2ml",
   "language": "python",
   "name": "nl2ml"
  },
  "language_info": {
   "codemirror_mode": {
    "name": "ipython",
    "version": 3
   },
   "file_extension": ".py",
   "mimetype": "text/x-python",
   "name": "python",
   "nbconvert_exporter": "python",
   "pygments_lexer": "ipython3",
   "version": "3.8.3"
  }
 },
 "nbformat": 4,
 "nbformat_minor": 4
}
